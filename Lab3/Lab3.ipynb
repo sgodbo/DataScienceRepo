{
 "metadata": {
  "name": "",
  "signature": "sha256:5b5b310da30a04809e4e5a60b874b9c1a6f037baefee44ff7865132b6da1ae89"
 },
 "nbformat": 3,
 "nbformat_minor": 0,
 "worksheets": [
  {
   "cells": [
    {
     "cell_type": "heading",
     "level": 1,
     "metadata": {},
     "source": [
      "Lab 3: Joining Multiple Tables (Python & Pandas)"
     ]
    },
    {
     "cell_type": "code",
     "collapsed": false,
     "input": [
      "import Levenshtein as L\n",
      "import pandas as pd"
     ],
     "language": "python",
     "metadata": {},
     "outputs": [],
     "prompt_number": 1
    },
    {
     "cell_type": "code",
     "collapsed": false,
     "input": [
      "Students = pd.DataFrame({'student_id': [1, 2], 'name': ['Alice', 'Bob']})"
     ],
     "language": "python",
     "metadata": {},
     "outputs": [],
     "prompt_number": 2
    },
    {
     "cell_type": "code",
     "collapsed": false,
     "input": [
      "Grades = pd.DataFrame({'student_id': [1, 1, 2, 2], 'class_id': [1, 2, 1, 3], 'grade': ['A', 'C', 'B', 'B']})"
     ],
     "language": "python",
     "metadata": {},
     "outputs": [],
     "prompt_number": 3
    },
    {
     "cell_type": "code",
     "collapsed": false,
     "input": [
      "pd.merge(Students, Grades, on='student_id')"
     ],
     "language": "python",
     "metadata": {},
     "outputs": [
      {
       "html": [
        "<div style=\"max-height:1000px;max-width:1500px;overflow:auto;\">\n",
        "<table border=\"1\" class=\"dataframe\">\n",
        "  <thead>\n",
        "    <tr style=\"text-align: right;\">\n",
        "      <th></th>\n",
        "      <th>name</th>\n",
        "      <th>student_id</th>\n",
        "      <th>class_id</th>\n",
        "      <th>grade</th>\n",
        "    </tr>\n",
        "  </thead>\n",
        "  <tbody>\n",
        "    <tr>\n",
        "      <th>0</th>\n",
        "      <td> Alice</td>\n",
        "      <td> 1</td>\n",
        "      <td> 1</td>\n",
        "      <td> A</td>\n",
        "    </tr>\n",
        "    <tr>\n",
        "      <th>1</th>\n",
        "      <td> Alice</td>\n",
        "      <td> 1</td>\n",
        "      <td> 2</td>\n",
        "      <td> C</td>\n",
        "    </tr>\n",
        "    <tr>\n",
        "      <th>2</th>\n",
        "      <td>   Bob</td>\n",
        "      <td> 2</td>\n",
        "      <td> 1</td>\n",
        "      <td> B</td>\n",
        "    </tr>\n",
        "    <tr>\n",
        "      <th>3</th>\n",
        "      <td>   Bob</td>\n",
        "      <td> 2</td>\n",
        "      <td> 3</td>\n",
        "      <td> B</td>\n",
        "    </tr>\n",
        "  </tbody>\n",
        "</table>\n",
        "</div>"
       ],
       "metadata": {},
       "output_type": "pyout",
       "prompt_number": 4,
       "text": [
        "    name  student_id  class_id grade\n",
        "0  Alice           1         1     A\n",
        "1  Alice           1         2     C\n",
        "2    Bob           2         1     B\n",
        "3    Bob           2         3     B"
       ]
      }
     ],
     "prompt_number": 4
    },
    {
     "cell_type": "markdown",
     "metadata": {},
     "source": [
      "**Question 1**\n",
      "\n",
      "Use merge to join Grades with the Classes table below, and find out what class Alice got an A in."
     ]
    },
    {
     "cell_type": "code",
     "collapsed": false,
     "input": [
      "Classes = pd.DataFrame({'class_id': [1, 2, 3], 'title': ['Math', 'English', 'Spanish']})\n",
      "# Your answer here:\n",
      "pd.merge(Grades, Classes, on='class_id')"
     ],
     "language": "python",
     "metadata": {},
     "outputs": [
      {
       "html": [
        "<div style=\"max-height:1000px;max-width:1500px;overflow:auto;\">\n",
        "<table border=\"1\" class=\"dataframe\">\n",
        "  <thead>\n",
        "    <tr style=\"text-align: right;\">\n",
        "      <th></th>\n",
        "      <th>class_id</th>\n",
        "      <th>grade</th>\n",
        "      <th>student_id</th>\n",
        "      <th>title</th>\n",
        "    </tr>\n",
        "  </thead>\n",
        "  <tbody>\n",
        "    <tr>\n",
        "      <th>0</th>\n",
        "      <td> 1</td>\n",
        "      <td> A</td>\n",
        "      <td> 1</td>\n",
        "      <td>    Math</td>\n",
        "    </tr>\n",
        "    <tr>\n",
        "      <th>1</th>\n",
        "      <td> 1</td>\n",
        "      <td> B</td>\n",
        "      <td> 2</td>\n",
        "      <td>    Math</td>\n",
        "    </tr>\n",
        "    <tr>\n",
        "      <th>2</th>\n",
        "      <td> 2</td>\n",
        "      <td> C</td>\n",
        "      <td> 1</td>\n",
        "      <td> English</td>\n",
        "    </tr>\n",
        "    <tr>\n",
        "      <th>3</th>\n",
        "      <td> 3</td>\n",
        "      <td> B</td>\n",
        "      <td> 2</td>\n",
        "      <td> Spanish</td>\n",
        "    </tr>\n",
        "  </tbody>\n",
        "</table>\n",
        "</div>"
       ],
       "metadata": {},
       "output_type": "pyout",
       "prompt_number": 5,
       "text": [
        "   class_id grade  student_id    title\n",
        "0         1     A           1     Math\n",
        "1         1     B           2     Math\n",
        "2         2     C           1  English\n",
        "3         3     B           2  Spanish"
       ]
      }
     ],
     "prompt_number": 5
    },
    {
     "cell_type": "markdown",
     "metadata": {},
     "source": [
      "**Question 2**\n",
      "\n",
      "Suppose we want to get students' grades for each class in a more straightforward way, and decide to get a Dataframe that: \n",
      "\n",
      "1. has one row for each student name, \n",
      "2. different class titles as columns names,\n",
      "3. the grades of students in different classes as the values (NaN if not applicable).\n",
      "\n",
      "how do we get such a DataFrame?"
     ]
    },
    {
     "cell_type": "code",
     "collapsed": false,
     "input": [
      "# Your answer here:\n",
      "df_1 = pd.merge(Students, Grades, on='student_id')\n",
      "df_2 = pd.merge(df_1, Classes, on='class_id')\n",
      "df_3 = df_2.pivot(index='name', columns='title', values='grade')\n",
      "df_3"
     ],
     "language": "python",
     "metadata": {},
     "outputs": [
      {
       "html": [
        "<div style=\"max-height:1000px;max-width:1500px;overflow:auto;\">\n",
        "<table border=\"1\" class=\"dataframe\">\n",
        "  <thead>\n",
        "    <tr style=\"text-align: right;\">\n",
        "      <th>title</th>\n",
        "      <th>English</th>\n",
        "      <th>Math</th>\n",
        "      <th>Spanish</th>\n",
        "    </tr>\n",
        "    <tr>\n",
        "      <th>name</th>\n",
        "      <th></th>\n",
        "      <th></th>\n",
        "      <th></th>\n",
        "    </tr>\n",
        "  </thead>\n",
        "  <tbody>\n",
        "    <tr>\n",
        "      <th>Alice</th>\n",
        "      <td>   C</td>\n",
        "      <td> A</td>\n",
        "      <td> NaN</td>\n",
        "    </tr>\n",
        "    <tr>\n",
        "      <th>Bob</th>\n",
        "      <td> NaN</td>\n",
        "      <td> B</td>\n",
        "      <td>   B</td>\n",
        "    </tr>\n",
        "  </tbody>\n",
        "</table>\n",
        "</div>"
       ],
       "metadata": {},
       "output_type": "pyout",
       "prompt_number": 6,
       "text": [
        "title English Math Spanish\n",
        "name                      \n",
        "Alice       C    A     NaN\n",
        "Bob       NaN    B       B"
       ]
      }
     ],
     "prompt_number": 6
    },
    {
     "cell_type": "code",
     "collapsed": false,
     "input": [
      "resto = pd.read_csv('restaurants.csv')"
     ],
     "language": "python",
     "metadata": {},
     "outputs": [],
     "prompt_number": 7
    },
    {
     "cell_type": "code",
     "collapsed": false,
     "input": [
      "clusters = pd.merge(resto, resto, on='cluster')\n",
      "clusters = clusters[clusters.id_x != clusters.id_y]"
     ],
     "language": "python",
     "metadata": {},
     "outputs": [],
     "prompt_number": 8
    },
    {
     "cell_type": "code",
     "collapsed": false,
     "input": [
      "clusters = clusters[clusters.id_x > clusters.id_y]"
     ],
     "language": "python",
     "metadata": {},
     "outputs": [],
     "prompt_number": 9
    },
    {
     "cell_type": "code",
     "collapsed": false,
     "input": [
      "resto['dummy'] = 0\n",
      "prod = pd.merge(resto, resto, on='dummy')\n",
      "\n",
      "# Clean up\n",
      "del prod['dummy']\n",
      "del resto['dummy']\n",
      "\n",
      "# Show that prod is the size of \"resto\" squared:\n",
      "print len(prod), len(resto)**2"
     ],
     "language": "python",
     "metadata": {},
     "outputs": [
      {
       "output_type": "stream",
       "stream": "stdout",
       "text": [
        "736164 736164\n"
       ]
      }
     ],
     "prompt_number": 10
    },
    {
     "cell_type": "markdown",
     "metadata": {},
     "source": [
      "**Question 3**\n",
      "\n",
      "Remove pairs with the same IDs and redundant pairs in 'prod'.\n"
     ]
    },
    {
     "cell_type": "code",
     "collapsed": false,
     "input": [
      "# Your answer here:\n",
      "prod = prod[(prod.id_x != prod.id_y) & (prod.id_x < prod.id_y)]\n",
      "prod[:10]"
     ],
     "language": "python",
     "metadata": {},
     "outputs": [
      {
       "html": [
        "<div style=\"max-height:1000px;max-width:1500px;overflow:auto;\">\n",
        "<table border=\"1\" class=\"dataframe\">\n",
        "  <thead>\n",
        "    <tr style=\"text-align: right;\">\n",
        "      <th></th>\n",
        "      <th>id_x</th>\n",
        "      <th>cluster_x</th>\n",
        "      <th>name_x</th>\n",
        "      <th>city_x</th>\n",
        "      <th>id_y</th>\n",
        "      <th>cluster_y</th>\n",
        "      <th>name_y</th>\n",
        "      <th>city_y</th>\n",
        "    </tr>\n",
        "  </thead>\n",
        "  <tbody>\n",
        "    <tr>\n",
        "      <th>1 </th>\n",
        "      <td> 560</td>\n",
        "      <td> 453</td>\n",
        "      <td> 2223</td>\n",
        "      <td> san francisco</td>\n",
        "      <td> 781</td>\n",
        "      <td> 675</td>\n",
        "      <td>                  103 west</td>\n",
        "      <td>          atlanta</td>\n",
        "    </tr>\n",
        "    <tr>\n",
        "      <th>9 </th>\n",
        "      <td> 560</td>\n",
        "      <td> 453</td>\n",
        "      <td> 2223</td>\n",
        "      <td> san francisco</td>\n",
        "      <td> 561</td>\n",
        "      <td> 454</td>\n",
        "      <td>                acquarello</td>\n",
        "      <td>    san francisco</td>\n",
        "    </tr>\n",
        "    <tr>\n",
        "      <th>12</th>\n",
        "      <td> 560</td>\n",
        "      <td> 453</td>\n",
        "      <td> 2223</td>\n",
        "      <td> san francisco</td>\n",
        "      <td> 708</td>\n",
        "      <td> 602</td>\n",
        "      <td>        afghan kebab house</td>\n",
        "      <td>    new york city</td>\n",
        "    </tr>\n",
        "    <tr>\n",
        "      <th>20</th>\n",
        "      <td> 560</td>\n",
        "      <td> 453</td>\n",
        "      <td> 2223</td>\n",
        "      <td> san francisco</td>\n",
        "      <td> 782</td>\n",
        "      <td> 676</td>\n",
        "      <td>     alon's at the terrace</td>\n",
        "      <td>          atlanta</td>\n",
        "    </tr>\n",
        "    <tr>\n",
        "      <th>24</th>\n",
        "      <td> 560</td>\n",
        "      <td> 453</td>\n",
        "      <td> 2223</td>\n",
        "      <td> san francisco</td>\n",
        "      <td> 762</td>\n",
        "      <td> 656</td>\n",
        "      <td> andre's french restaurant</td>\n",
        "      <td>        las vegas</td>\n",
        "    </tr>\n",
        "    <tr>\n",
        "      <th>28</th>\n",
        "      <td> 560</td>\n",
        "      <td> 453</td>\n",
        "      <td> 2223</td>\n",
        "      <td> san francisco</td>\n",
        "      <td> 640</td>\n",
        "      <td> 534</td>\n",
        "      <td>            apple pan  the</td>\n",
        "      <td>          west la</td>\n",
        "    </tr>\n",
        "    <tr>\n",
        "      <th>33</th>\n",
        "      <td> 560</td>\n",
        "      <td> 453</td>\n",
        "      <td> 2223</td>\n",
        "      <td> san francisco</td>\n",
        "      <td> 709</td>\n",
        "      <td> 603</td>\n",
        "      <td>                   arcadia</td>\n",
        "      <td>    new york city</td>\n",
        "    </tr>\n",
        "    <tr>\n",
        "      <th>40</th>\n",
        "      <td> 560</td>\n",
        "      <td> 453</td>\n",
        "      <td> 2223</td>\n",
        "      <td> san francisco</td>\n",
        "      <td> 641</td>\n",
        "      <td> 535</td>\n",
        "      <td>               asahi ramen</td>\n",
        "      <td>          west la</td>\n",
        "    </tr>\n",
        "    <tr>\n",
        "      <th>47</th>\n",
        "      <td> 560</td>\n",
        "      <td> 453</td>\n",
        "      <td> 2223</td>\n",
        "      <td> san francisco</td>\n",
        "      <td> 642</td>\n",
        "      <td> 536</td>\n",
        "      <td>                baja fresh</td>\n",
        "      <td> westlake village</td>\n",
        "    </tr>\n",
        "    <tr>\n",
        "      <th>48</th>\n",
        "      <td> 560</td>\n",
        "      <td> 453</td>\n",
        "      <td> 2223</td>\n",
        "      <td> san francisco</td>\n",
        "      <td> 783</td>\n",
        "      <td> 677</td>\n",
        "      <td>        baker's cajun cafe</td>\n",
        "      <td>          atlanta</td>\n",
        "    </tr>\n",
        "  </tbody>\n",
        "</table>\n",
        "</div>"
       ],
       "metadata": {},
       "output_type": "pyout",
       "prompt_number": 11,
       "text": [
        "    id_x  cluster_x name_x         city_x  id_y  cluster_y  \\\n",
        "1    560        453   2223  san francisco   781        675   \n",
        "9    560        453   2223  san francisco   561        454   \n",
        "12   560        453   2223  san francisco   708        602   \n",
        "20   560        453   2223  san francisco   782        676   \n",
        "24   560        453   2223  san francisco   762        656   \n",
        "28   560        453   2223  san francisco   640        534   \n",
        "33   560        453   2223  san francisco   709        603   \n",
        "40   560        453   2223  san francisco   641        535   \n",
        "47   560        453   2223  san francisco   642        536   \n",
        "48   560        453   2223  san francisco   783        677   \n",
        "\n",
        "                       name_y            city_y  \n",
        "1                    103 west           atlanta  \n",
        "9                  acquarello     san francisco  \n",
        "12         afghan kebab house     new york city  \n",
        "20      alon's at the terrace           atlanta  \n",
        "24  andre's french restaurant         las vegas  \n",
        "28             apple pan  the           west la  \n",
        "33                    arcadia     new york city  \n",
        "40                asahi ramen           west la  \n",
        "47                 baja fresh  westlake village  \n",
        "48         baker's cajun cafe           atlanta  "
       ]
      }
     ],
     "prompt_number": 11
    },
    {
     "cell_type": "code",
     "collapsed": false,
     "input": [
      "import Levenshtein as L"
     ],
     "language": "python",
     "metadata": {},
     "outputs": [],
     "prompt_number": 12
    },
    {
     "cell_type": "code",
     "collapsed": false,
     "input": [
      "# This might take a minute or two to run\n",
      "prod['distance'] = prod.apply(lambda r: L.distance(r['name_x'], r['name_y']), axis=1)"
     ],
     "language": "python",
     "metadata": {},
     "outputs": [],
     "prompt_number": 13
    },
    {
     "cell_type": "code",
     "collapsed": false,
     "input": [
      "%matplotlib inline\n",
      "import pylab\n",
      "\n",
      "def accuracy(max_distance):\n",
      "    similar = prod[prod.distance < max_distance]\n",
      "    correct = float(sum(similar.cluster_x == similar.cluster_y))\n",
      "    precision = correct / len(similar)\n",
      "    recall = correct / len(clusters)\n",
      "    return (precision, recall)\n",
      "\n",
      "thresholds = range(1, 11)\n",
      "pLev = []\n",
      "rLev = []\n",
      "\n",
      "for t in thresholds:\n",
      "    acc = accuracy(t)\n",
      "    pLev.append(acc[0])\n",
      "    rLev.append(acc[1])\n",
      "\n",
      "pylab.plot(thresholds, pLev)\n",
      "pylab.plot(thresholds, rLev)\n",
      "pylab.legend(['precision', 'recall'], loc='upper left')"
     ],
     "language": "python",
     "metadata": {},
     "outputs": [
      {
       "metadata": {},
       "output_type": "pyout",
       "prompt_number": 14,
       "text": [
        "<matplotlib.legend.Legend at 0x7fedfd33dbd0>"
       ]
      },
      {
       "metadata": {},
       "output_type": "display_data",
       "png": "[encoded data removed]",
       "text": [
        "<matplotlib.figure.Figure at 0x7fee01782c10>"
       ]
      }
     ],
     "prompt_number": 14
    },
    {
     "cell_type": "markdown",
     "metadata": {},
     "source": [
      "**Question 4**\n",
      "\n",
      "Another common way to visualize the tradeoff between precision and recall is to plot them directly against each other. Create a line plot with precision on one axis and recall on the other (this graph generated is called [precision-recall curve](https://www.quora.com/What-is-Precision-Recall-PR-curve)). Where are \"good\" points on the plot, and where are \"bad\" ones.(use recall as horizontal axis and precision as vertical axis)"
     ]
    },
    {
     "cell_type": "markdown",
     "metadata": {},
     "source": [
      "Good points in a precision recall curve are all those points where precision tends to be above zero or negligible values. In the graph below, the blue line approaches towards zero. Hence, all the points having precision nearing zero are bad points and the rest are good ones."
     ]
    },
    {
     "cell_type": "code",
     "collapsed": false,
     "input": [
      "# Your answer here:\n",
      "pylab.plot(rLev, pLev)"
     ],
     "language": "python",
     "metadata": {},
     "outputs": [
      {
       "metadata": {},
       "output_type": "pyout",
       "prompt_number": 15,
       "text": [
        "[<matplotlib.lines.Line2D at 0x7fedfd189f50>]"
       ]
      },
      {
       "metadata": {},
       "output_type": "display_data",
       "png": "[encoded data removed]",
       "text": [
        "<matplotlib.figure.Figure at 0x7fee017d5ed0>"
       ]
      }
     ],
     "prompt_number": 15
    },
    {
     "cell_type": "markdown",
     "metadata": {},
     "source": [
      "**Question 5**\n",
      "\n",
      "The python Levenshtein library provides another metric of string similarity called \"ratio\" (use L.ratio(s1, s1)). ratio gives a similarity score between 0 and 1, with **higher meaning more similar**. Add a column to \"prod\" with the ratio similarities of the name columns, and redo the precision/recall tradeoff analysis with the new metric. (Note: you will have to alter the accuracy method and the threshold range.) On this data, does Levenshtein.ratio do better than Levenshtein.distance? (Plot the two precision-recall curves together in one graph to compare them)"
     ]
    },
    {
     "cell_type": "code",
     "collapsed": false,
     "input": [
      "#Your answer here\n",
      "prod['ratio'] = prod.apply(lambda row : L.ratio(row['name_x'], row['name_y']), axis=1)\n",
      "%matplotlib inline\n",
      "import pylab\n",
      "\n",
      "def similar_based_on_ratio(target_ratio):\n",
      "    similar = prod[prod.ratio >= target_ratio]\n",
      "    correct = float(sum(similar.cluster_x == similar.cluster_y))\n",
      "    precision = 0\n",
      "    if len(similar) == 0:\n",
      "        precision = 0\n",
      "    else:\n",
      "        precision = correct/len(similar)\n",
      "    recall = correct/len(clusters)\n",
      "    return [precision, recall]\n",
      "\n",
      "thresholds = [(0.1*x) for x in range(1,11)]\n",
      "\n",
      "pRatio = []\n",
      "rRatio = []\n",
      "for i in thresholds:\n",
      "    acc = similar_based_on_ratio(i)\n",
      "    pRatio.append(acc[0])\n",
      "    rRatio.append(acc[1])\n",
      "    \n",
      "pylab.plot(thresholds, pRatio)\n",
      "pylab.plot(thresholds, rRatio)\n",
      "pylab.legend(['precision', 'recall'],loc = 'upper right')"
     ],
     "language": "python",
     "metadata": {},
     "outputs": [
      {
       "metadata": {},
       "output_type": "pyout",
       "prompt_number": 16,
       "text": [
        "<matplotlib.legend.Legend at 0x7fedfd0e07d0>"
       ]
      },
      {
       "metadata": {},
       "output_type": "display_data",
       "png": "[encoded data removed]",
       "text": [
        "<matplotlib.figure.Figure at 0x7fedfd2bbbd0>"
       ]
      }
     ],
     "prompt_number": 16
    },
    {
     "cell_type": "code",
     "collapsed": false,
     "input": [
      "pylab.plot(rRatio, pRatio)"
     ],
     "language": "python",
     "metadata": {},
     "outputs": [
      {
       "metadata": {},
       "output_type": "pyout",
       "prompt_number": 17,
       "text": [
        "[<matplotlib.lines.Line2D at 0x7fedfd014710>]"
       ]
      },
      {
       "metadata": {},
       "output_type": "display_data",
       "png": "[encoded data removed]",
       "text": [
        "<matplotlib.figure.Figure at 0x7fedfd12d450>"
       ]
      }
     ],
     "prompt_number": 17
    },
    {
     "cell_type": "code",
     "collapsed": false,
     "input": [
      "pylab.title('precision/recall curve for Levenshtein distance (red) and Ratio (blue)')\n",
      "pylab.plot(rLev, pLev, 'r')\n",
      "pylab.plot(rRatio, pRatio, 'b')"
     ],
     "language": "python",
     "metadata": {},
     "outputs": [
      {
       "metadata": {},
       "output_type": "pyout",
       "prompt_number": 18,
       "text": [
        "[<matplotlib.lines.Line2D at 0x7fedfcf41c50>]"
       ]
      },
      {
       "metadata": {},
       "output_type": "display_data",
       "png": "[encoded data removed]",
       "text": [
        "<matplotlib.figure.Figure at 0x7fedfd03fdd0>"
       ]
      }
     ],
     "prompt_number": 18
    },
    {
     "cell_type": "markdown",
     "metadata": {},
     "source": [
      "Looking at the two precision-recall curves, it is evident that the blue curve(for ratio as similarity measure) gives better precision values than th red curve at each increaing recall point. Thus, for all types of values, Ratio (blue curve) is a better measure of similarity than Levenshtein distance."
     ]
    }
   ],
   "metadata": {}
  }
 ]
}